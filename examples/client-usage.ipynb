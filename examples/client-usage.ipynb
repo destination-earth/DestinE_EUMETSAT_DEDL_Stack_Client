{
 "cells": [
  {
   "cell_type": "markdown",
   "metadata": {},
   "source": [
    "<img src=\"https://www-cdn.eumetsat.int/files/styles/16_9_large/s3/2023-06/DestinationEarth-visual_colour-op_0.jpg?h=81e8e86e&itok=f4bdxtFA\" style=\"width: 100%; height: 250px; object-fit: none; object-position: 0 75%;\" />\n",
    "\n",
    "# DestinE Data Lake - Stack Service Dask"
   ]
  },
  {
   "cell_type": "code",
   "execution_count": 1,
   "metadata": {},
   "outputs": [
    {
     "data": {
      "text/html": [
       "<pre style=\"white-space:pre;overflow-x:auto;line-height:normal;font-family:Menlo,'DejaVu Sans Mono',consolas,'Courier New',monospace\">Username: </pre>\n"
      ],
      "text/plain": [
       "Username: "
      ]
     },
     "metadata": {},
     "output_type": "display_data"
    },
    {
     "name": "stdout",
     "output_type": "stream",
     "text": [
      "Create new cluster for Central Site\n"
     ]
    },
    {
     "name": "stderr",
     "output_type": "stream",
     "text": [
      "/home/codespace/.cache/pypoetry/virtualenvs/dedl-stack-client-4BynIp7X-py3.12/lib/python3.12/site-packages/distributed/client.py:1401: VersionMismatchWarning: Mismatched versions found\n",
      "\n",
      "+---------+----------------+----------------+---------+\n",
      "| Package | Client         | Scheduler      | Workers |\n",
      "+---------+----------------+----------------+---------+\n",
      "| python  | 3.12.3.final.0 | 3.11.4.final.0 | None    |\n",
      "+---------+----------------+----------------+---------+\n",
      "  warnings.warn(version_module.VersionMismatchWarning(msg[0][\"warning\"]))\n"
     ]
    },
    {
     "name": "stdout",
     "output_type": "stream",
     "text": [
      "Create new cluster for LUMI Bridge\n",
      "Create new cluster for LEONARDO Bridge\n"
     ]
    }
   ],
   "source": [
    "from dedl_stack_client.authn import DaskOIDC\n",
    "from dedl_stack_client.dask import DaskMultiCluster\n",
    "from rich.prompt import Prompt\n",
    "\n",
    "myAuth = DaskOIDC(username=Prompt.ask(prompt=\"Username\"))\n",
    "myDEDLClusters = DaskMultiCluster(auth=myAuth)\n",
    "myDEDLClusters.new_cluster()"
   ]
  },
  {
   "cell_type": "code",
   "execution_count": 2,
   "metadata": {},
   "outputs": [
    {
     "name": "stdout",
     "output_type": "stream",
     "text": [
      "<Client: 'tls://10.100.11.112:8786' processes=2 threads=2, memory=4.00 GiB>\n",
      "http://dask.central.data.destination-earth.eu/clusters/dask-gateway.66765eb11b5147229997b79ca3ac9ed2/status\n",
      "<Client: 'tls://10.100.7.243:8786' processes=2 threads=2, memory=4.00 GiB>\n",
      "http://dask.lumi.data.destination-earth.eu/clusters/dask-gateway.11e88a70ae5d48ca95ccf7d4780acf9f/status\n",
      "<Client: 'tls://10.100.3.251:8786' processes=2 threads=2, memory=4.00 GiB>\n",
      "http://dask.leonardo.data.destination-earth.eu/clusters/dask-gateway.9193995b188e46209fbb007f7be2f5df/status\n"
     ]
    }
   ],
   "source": [
    "with myDEDLClusters.as_current(location=\"central\") as myclient:\n",
    "    print(myclient)\n",
    "    print(myclient.dashboard_link)\n",
    "with myDEDLClusters.as_current(location=\"lumi\") as myclient:\n",
    "    print(myclient)\n",
    "    print(myclient.dashboard_link)\n",
    "with myDEDLClusters.as_current(location=\"leonardo\") as myclient:\n",
    "    print(myclient)\n",
    "    print(myclient.dashboard_link)"
   ]
  },
  {
   "cell_type": "code",
   "execution_count": 3,
   "metadata": {},
   "outputs": [],
   "source": [
    "myDEDLClusters.shutdown()"
   ]
  },
  {
   "cell_type": "code",
   "execution_count": null,
   "metadata": {},
   "outputs": [],
   "source": []
  }
 ],
 "metadata": {
  "kernelspec": {
   "display_name": "dedl-stack-client",
   "language": "python",
   "name": "python3"
  },
  "language_info": {
   "codemirror_mode": {
    "name": "ipython",
    "version": 3
   },
   "file_extension": ".py",
   "mimetype": "text/x-python",
   "name": "python",
   "nbconvert_exporter": "python",
   "pygments_lexer": "ipython3",
   "version": "3.12.3"
  }
 },
 "nbformat": 4,
 "nbformat_minor": 2
}
