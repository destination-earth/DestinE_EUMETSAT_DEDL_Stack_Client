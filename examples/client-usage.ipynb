{
 "cells": [
  {
   "cell_type": "markdown",
   "metadata": {},
   "source": [
    "<img src=\"https://www-cdn.eumetsat.int/files/styles/16_9_large/s3/2023-06/DestinationEarth-visual_colour-op_0.jpg?h=81e8e86e&itok=f4bdxtFA\" style=\"width: 100%; height: 250px; object-fit: none; object-position: 0 75%;\" />\n",
    "\n",
    "# DestinE Data Lake - Stack Service Dask"
   ]
  },
  {
   "cell_type": "code",
   "execution_count": 4,
   "metadata": {},
   "outputs": [
    {
     "data": {
      "text/html": [
       "<pre style=\"white-space:pre;overflow-x:auto;line-height:normal;font-family:Menlo,'DejaVu Sans Mono',consolas,'Courier New',monospace\">Username: </pre>\n"
      ],
      "text/plain": [
       "Username: "
      ]
     },
     "metadata": {},
     "output_type": "display_data"
    },
    {
     "name": "stdout",
     "output_type": "stream",
     "text": [
      "Create new cluster for Central Site\n",
      "Create new cluster for LUMI Bridge\n"
     ]
    }
   ],
   "source": [
    "from dedl_stack_client.authn import DaskOIDC\n",
    "from dedl_stack_client.dask import DaskMultiCluster\n",
    "from rich.prompt import Prompt\n",
    "\n",
    "myAuth = DaskOIDC(username=Prompt.ask(prompt=\"Username\"))\n",
    "myDEDLClusters = DaskMultiCluster(auth=myAuth)\n",
    "myDEDLClusters.new_cluster()"
   ]
  },
  {
   "cell_type": "code",
   "execution_count": 5,
   "metadata": {},
   "outputs": [
    {
     "name": "stdout",
     "output_type": "stream",
     "text": [
      "<Client: 'tls://10.100.11.176:8786' processes=2 threads=4, memory=8.00 GiB>\n",
      "http://dask.central.data.destination-earth.eu/clusters/dask-gateway.90b1892cd03846cd8a171792a31e698b/status\n",
      "<Client: 'tls://10.100.9.89:8786' processes=0 threads=0, memory=0 B>\n",
      "http://dask.lumi.data.destination-earth.eu/clusters/dask-gateway.1a4d657451a04a3697baaf6871d2ba75/status\n"
     ]
    }
   ],
   "source": [
    "with myDEDLClusters.as_current(location=\"central\") as myclient:\n",
    "    print(myclient)\n",
    "    print(myclient.dashboard_link)\n",
    "with myDEDLClusters.as_current(location=\"lumi\") as myclient:\n",
    "    print(myclient)\n",
    "    print(myclient.dashboard_link)"
   ]
  },
  {
   "cell_type": "code",
   "execution_count": 6,
   "metadata": {},
   "outputs": [],
   "source": [
    "myDEDLClusters.shutdown()"
   ]
  },
  {
   "cell_type": "code",
   "execution_count": null,
   "metadata": {},
   "outputs": [],
   "source": []
  }
 ],
 "metadata": {
  "kernelspec": {
   "display_name": "dedl-stack-client",
   "language": "python",
   "name": "python3"
  },
  "language_info": {
   "codemirror_mode": {
    "name": "ipython",
    "version": 3
   },
   "file_extension": ".py",
   "mimetype": "text/x-python",
   "name": "python",
   "nbconvert_exporter": "python",
   "pygments_lexer": "ipython3",
   "version": "3.11.4"
  }
 },
 "nbformat": 4,
 "nbformat_minor": 2
}
